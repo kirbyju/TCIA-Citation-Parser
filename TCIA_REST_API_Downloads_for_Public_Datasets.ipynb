{
  "nbformat": 4,
  "nbformat_minor": 0,
  "metadata": {
    "colab": {
      "provenance": [],
      "collapsed_sections": [],
      "toc_visible": true,
      "include_colab_link": true
    },
    "kernelspec": {
      "name": "python3",
      "display_name": "Python 3"
    },
    "language_info": {
      "name": "python"
    }
  },
  "cells": [
    {
      "cell_type": "markdown",
      "metadata": {
        "id": "view-in-github",
        "colab_type": "text"
      },
      "source": [
        "<a href=\"https://colab.research.google.com/github/kirbyju/TCIA-Citation-Parser/blob/master/TCIA_REST_API_Downloads_for_Public_Datasets.ipynb\" target=\"_parent\"><img src=\"https://colab.research.google.com/assets/colab-badge.svg\" alt=\"Open In Colab\"/></a>"
      ]
    },
    {
      "cell_type": "markdown",
      "source": [
        "# Summary\n",
        "\n",
        "\n",
        "Access to large, high quality data is essential for researchers to understand disease and precision medicine pathways, especially in cancer. However HIPAA constraints make sharing medical images outside an individual institution a complex process. [The Cancer Imaging Archive (TCIA)](https://www.cancerimagingarchive.net/) is a public service funded by the National Cancer Institute which addresses this challenge by providing hosting and de-identification services to take major burdens of data sharing off researchers. \n",
        "\n",
        "**This notebook is focused on basic use cases for leveraging TCIA's REST APIs to download data from open-access Collections that don't require a user account.**  If you're interested additional TCIA notebooks and coding examples check out the tutorials at https://github.com/kirbyju/TCIA_Notebooks. You can also view a list of Github repositories that have tagged themself as relevant to TCIA at https://github.com/topics/tcia-dac."
      ],
      "metadata": {
        "id": "KmXfYFZtja2F"
      }
    },
    {
      "cell_type": "markdown",
      "source": [
        "# 1 Learn about available Collections on the TCIA website\n",
        "\n",
        "[Browsing Collections](https://www.cancerimagingarchive.net/collections) and [Analysis Results](https://www.cancerimagingarchive.net/tcia-analysis-results/) datasets on TCIA are the easiest ways to become familiar with what is available.  These pages will help you quickly identify datasets of interest, find valuable supporting data that are not available via our APIs (e.g. clinical spreadsheets, non-DICOM segmentation data), and answer most common questions you might have about the datasets.  "
      ],
      "metadata": {
        "id": "AruUGe3lmjkh"
      }
    },
    {
      "cell_type": "markdown",
      "metadata": {
        "id": "SmeqJoR5k9z0"
      },
      "source": [
        "# 2 REST API Overview \n",
        "TCIA uses software called NBIA to manage DICOM data.  The NBIA REST APIs are provided to the search and download functions used in the TCIA radiology portal, and allow access to both public and limited access collections.\n",
        "1. The [NBIA Search REST APIs](https://wiki.cancerimagingarchive.net/x/fILTB) allow you to perform basic queries and download data from **public** collections. This API does not require a TCIA account.\n",
        "2. The [NBIA Search with Authentication REST APIs](https://wiki.cancerimagingarchive.net/x/X4ATBg) allow you to perform basic queries and download data from **public and limited-access** collections. This API requires a TCIA account for creation of authentication tokens.\n",
        "3. The [NBIA Advanced REST APIs](https://wiki.cancerimagingarchive.net/x/YoATBg) also allow access to **public and limited-access** collections, but provides query endpoints mostly geared towards developers seeking to integrate searching and downloading TCIA data into web and desktop applications.  This API requires a TCIA account for creation of authentication tokens.\n",
        "\n",
        "This notebook will focus on the fully public [NBIA Search REST APIs](https://wiki.cancerimagingarchive.net/x/fILTB).  If you'd like to see examples using the APIs that require authentication check out [this notebook](https://github.com/kirbyju/TCIA_Notebooks/blob/main/ACNS0332/ACNS0332.ipynb) which shows many similar examples with the additional steps necessary to create a secure token using your TCIA login credentials.\n",
        "\n",
        "***Note:*** Many of the examples below allow for additional query parameters to refine your results.  These are covered in the documentation links above."
      ]
    },
    {
      "cell_type": "markdown",
      "source": [
        "### 2.1 Setting the Base URLs\n",
        "The URL for accessing the Search APIs changes slightly depending on whether or not you would like to access the [National Lung Screening Trial (NLST)](https://doi.org/10.7937/TCIA.HMQ8-J677) collection, which lives on its own server due to its size (26,000+ patients, ~13 TBytes).  Here are the base URLs:\n",
        "\n",
        "* All other Collections - https://services.cancerimagingarchive.net/nbia-api/services/v1/\n",
        "* NLST - https://services.cancerimagingarchive.net/nlst-api/services/v1/\n",
        "\n",
        "Let's set those as variables and also import a few modules we'll need later.\n"
      ],
      "metadata": {
        "id": "nj6P7YCmll4S"
      }
    },
    {
      "cell_type": "code",
      "source": [
        "# set API base URLs\n",
        "\n",
        "base_url = \"https://services.cancerimagingarchive.net/nbia-api/services/v1/\"\n",
        "nlst_url = \"https://services.cancerimagingarchive.net/nlst-api/services/v1/\"\n",
        "\n",
        "# imports\n",
        "\n",
        "import requests\n",
        "import pandas as pd\n",
        "import json\n",
        "import zipfile\n",
        "from io import BytesIO"
      ],
      "metadata": {
        "id": "FlK684ooivTC"
      },
      "execution_count": null,
      "outputs": []
    },
    {
      "cell_type": "markdown",
      "source": [
        "# 3 Download Examples\n",
        "\n",
        "In this section we'll cover downloading data via the REST API for the following use cases:\n",
        "\n",
        "1.   Download a full Collection\n",
        "2.   Download custom results of an API query\n",
        "3.   Download a \"shared cart\" that was created via https://nbia.cancerimagingarchive.net/\n",
        "4.   Download data from a TCIA manifest file\n",
        "\n",
        "But before we address those, let's define a generic download function that we can re-use for each of these use cases.  This will take a list of series UIDs as the input, download each scan, and create a dataframe/CSV that contains the metadata about each of those scans.  It also accepts an optional parameter to specify a file name if you'd like a CSV export of the dataframe.\n",
        "\n",
        "***Note: This function is setup to only download the first 3 scans of your results for demonstration purposes.  If you'd like to download the full set of results you'll need to comment out or delete the relevant lines below.***"
      ],
      "metadata": {
        "id": "iao1mstCf8Vl"
      }
    },
    {
      "cell_type": "code",
      "source": [
        "# define a function to accept a list of seriesInstanceUIDs and download it\n",
        "# reminder: this only downloads the first 3 scans unless you comment out that section\n",
        "\n",
        "def downloadSeries(api_url, series_data, csv_filename=\"\"):  \n",
        "    manifestDF=pd.DataFrame()\n",
        "    seriesUID = ''\n",
        "    count = 0\n",
        "    for x in series_data:\n",
        "        seriesUID = x['SeriesInstanceUID']\n",
        "        data_url = api_url + \"getImage?SeriesInstanceUID=\" + seriesUID\n",
        "        print(\"Downloading \" + data_url)\n",
        "        data = requests.get(data_url)\n",
        "        file = zipfile.ZipFile(BytesIO(data.content))\n",
        "        # print(file.namelist())\n",
        "        file.extractall(path = \"apiDownload/\" + collection + \"/\" + seriesUID)\n",
        "        # write the series metadata to a dataframe\n",
        "        metadata_url = api_url + \"getSeriesMetaData?SeriesInstanceUID=\" + seriesUID\n",
        "        metadata = requests.get(metadata_url).json()\n",
        "        newRow = pd.DataFrame.from_dict(metadata)\n",
        "        tmpManifest = pd.concat([manifestDF, newRow], ignore_index = True)\n",
        "        tmpManifest.reset_index()\n",
        "        manifestDF = tmpManifest\n",
        "        # Repeat n times for demo purposes - comment out these next 3 lines to download a full results\n",
        "        count += 1;\n",
        "        if count == 3:\n",
        "            break  \n",
        "    # display manifest dataframe and/or save manifest to CSV file\n",
        "    if csv_filename != \"\":\n",
        "        manifestDF.to_csv(csv_filename + '.csv')\n",
        "        display(manifestDF)\n",
        "    else:\n",
        "        display(manifestDF)"
      ],
      "metadata": {
        "id": "dzwP36uU0LfX"
      },
      "execution_count": null,
      "outputs": []
    },
    {
      "cell_type": "markdown",
      "source": [
        "## 3.1 Download a full Collection\n",
        "\n",
        "You can [browse Collections](https://www.cancerimagingarchive.net/collections) on our website to figure out what you might want to download, but you can also get a list of available collections via the API as shown below."
      ],
      "metadata": {
        "id": "fwj_OZjphcWP"
      }
    },
    {
      "cell_type": "code",
      "source": [
        "# get list of available collections as JSON\n",
        "\n",
        "data_url = base_url + \"getCollectionValues\"\n",
        "data = requests.get(data_url).json()\n",
        "print(json.dumps(data, indent=2))\n"
      ],
      "metadata": {
        "id": "II1o1709zq1d"
      },
      "execution_count": null,
      "outputs": []
    },
    {
      "cell_type": "markdown",
      "source": [
        "Let's say that we're interested in the Soft-tissue-Sarcoma collection.  First we need to get a list of all Series Instance UIDs in that collection."
      ],
      "metadata": {
        "id": "Jbmm5DIU4Exy"
      }
    },
    {
      "cell_type": "code",
      "source": [
        "collection = \"Soft-tissue-Sarcoma\"\n",
        "\n",
        "data_url = base_url + \"getSeries?Collection=\" + collection\n",
        "data = requests.get(data_url)\n",
        "if data.text != \"\":\n",
        "    series_data = data.json()\n",
        "    print(\"Collection contains\", len(series_data), \"Series Instance UIDs (scans).\")\n",
        "else:\n",
        "    print(\"Collection not found.\")"
      ],
      "metadata": {
        "id": "eVnVh_yv7Av3"
      },
      "execution_count": null,
      "outputs": []
    },
    {
      "cell_type": "markdown",
      "source": [
        "Next, let's feed those Series Instance UIDs to our downloadSeries function we created earlier."
      ],
      "metadata": {
        "id": "wfkCWxiK8nQz"
      }
    },
    {
      "cell_type": "code",
      "source": [
        "# feed series_data to our downloadSeries function\n",
        "downloadSeries(base_url, series_data, collection + \"_full_Collection\")"
      ],
      "metadata": {
        "id": "2XVUkw5vgMZX"
      },
      "execution_count": null,
      "outputs": []
    },
    {
      "cell_type": "markdown",
      "source": [
        "## 3.2 Download custom results of an API query\n",
        "The REST API allows for a variety of different query options as demonstrated in [this notebook](https://github.com/kirbyju/TCIA_Notebooks/blob/main/TCIA_REST_API_Queries_for_Public_Datasets.ipynb).  For this use case, let's assume that you are only interested in the MR scans from the TCGA-BRCA Collection that were acquired on Siemens scanners."
      ],
      "metadata": {
        "id": "i7Pw0jvy4HO8"
      }
    },
    {
      "cell_type": "code",
      "source": [
        "# specify a query parameters\n",
        "collection = \"TCGA-BRCA\"\n",
        "modality = \"MR\"\n",
        "manufacturer = \"SIEMENS\"\n",
        "\n",
        "# get Series UIDs\n",
        "data_url = base_url + \"getSeries?Collection=\" + collection  + \"&Modality=\" + modality + \"&Manufacturer=\" + manufacturer\n",
        "data = requests.get(data_url)\n",
        "if data.text != \"\":\n",
        "    series_data = data.json()\n",
        "    print(\"Result contains\", len(series_data), \"Series Instance UIDs (scans).\")\n",
        "else:\n",
        "    print(\"No results: Please check to make sure the Collection \"\n",
        "      + collection + \" exists and it contains \"\n",
        "      + modality + \" modality with \"\n",
        "      + manufacturer + \" manufacturer.\")"
      ],
      "metadata": {
        "id": "6Y-uSUCBE_bJ"
      },
      "execution_count": null,
      "outputs": []
    },
    {
      "cell_type": "markdown",
      "source": [
        "Once again, let's pass those Series Instance UIDs to our downloadSeries function."
      ],
      "metadata": {
        "id": "mzDBsCavGuHR"
      }
    },
    {
      "cell_type": "code",
      "source": [
        "# feed series_data to our downloadSeries function\n",
        "downloadSeries(base_url, series_data, collection + \"_\" + modality + \"_\" + manufacturer)"
      ],
      "metadata": {
        "id": "d5TAEkFmVtgg"
      },
      "execution_count": null,
      "outputs": []
    },
    {
      "cell_type": "markdown",
      "source": [
        "Let's show a similar example where we look for a specific modality and manufacturer within the [National Lung Screening Trial (NLST) Collection](https://doi.org/10.7937/TCIA.HMQ8-J677).  Remember that we have to use the NLST API URL we specified earlier for this to work, but otherwise the steps are the same."
      ],
      "metadata": {
        "id": "JEKzWV7a7Q4M"
      }
    },
    {
      "cell_type": "code",
      "source": [
        "# specify a query parameters\n",
        "collection = \"NLST\"\n",
        "modality = \"CT\"\n",
        "manufacturer = \"Philips\"\n",
        "\n",
        "# get Series UIDs -- NOTE: this uses the \"nlst_url\" we defined earlier\n",
        "data_url = nlst_url + \"getSeries?Collection=\" + collection  + \"&Modality=\" + modality + \"&Manufacturer=\" + manufacturer\n",
        "data = requests.get(data_url)\n",
        "if data.text != \"\":\n",
        "    series_data = data.json()\n",
        "    print(\"Result contains\", len(series_data), \"Series Instance UIDs (scans).\")\n",
        "else:\n",
        "    print(\"No results: Please check to make sure the Collection \"\n",
        "      + collection + \" exists and it contains \"\n",
        "      + modality + \" modality with \"\n",
        "      + manufacturer + \" manufacturer.\")"
      ],
      "metadata": {
        "id": "zGlhMzna7wgS"
      },
      "execution_count": null,
      "outputs": []
    },
    {
      "cell_type": "code",
      "source": [
        "# feed series_data to our downloadSeries function\n",
        "downloadSeries(nlst_url, series_data, collection + \"_\" + modality + \"_\" + manufacturer)"
      ],
      "metadata": {
        "id": "D58Jjiqp8UVE"
      },
      "execution_count": null,
      "outputs": []
    },
    {
      "cell_type": "markdown",
      "source": [
        "## 3.3 Download a \"shared cart\"\n",
        "It's possible to use https://nbia.cancerimagingarchive.net to create a \"[Shared Cart](https://wiki.cancerimagingarchive.net/display/NBIA/TCIA+Radiology+Portal+User+Guide#TCIARadiologyPortalUserGuide-SharingDatainYourCart)\" which includes a specific set of scans you'd like to share with others. After creating a Shared Cart you receive a URL like https://nbia.cancerimagingarchive.net/nbia-search/?saved-cart=nbia-49121659384603347 which can be shared with others.  Try clicking the link to see what this looks like on the TCIA website.  Then use the code below to see how you can use the cart name to download the (first 3) related scans via our API."
      ],
      "metadata": {
        "id": "AJw430rwTkJ0"
      }
    },
    {
      "cell_type": "code",
      "source": [
        "# Download a \"Shared Cart\" that has been previously created via the NBIA GUI (https://nbia.cancerimagingarchive.net)\n",
        "\n",
        "cartName=\"nbia-49121659384603347\"\n",
        "\n",
        "cart_URL = base_url + \"getContentsByName?name=\" + cartName\n",
        "series_data = requests.get(cart_URL).json()\n",
        "print(\"Result contains\", len(series_data), \"Series Instance UIDs (scans).\")"
      ],
      "metadata": {
        "id": "Wdv62WPyhEg7"
      },
      "execution_count": null,
      "outputs": []
    },
    {
      "cell_type": "code",
      "source": [
        "# feed series_data to our downloadSeries function\n",
        "downloadSeries(base_url, series_data, cartName + \"_manifest\")"
      ],
      "metadata": {
        "id": "LlyJYA-rTlGY"
      },
      "execution_count": null,
      "outputs": []
    },
    {
      "cell_type": "markdown",
      "source": [
        "## 3.4 Download data from a TCIA manifest file\n",
        "\n",
        "When working with manifest files in a notebook you can install the NBIA Data Retriever to open the manifest and download the data as shown in [this notebook](https://github.com/kirbyju/TCIA_Notebooks/blob/main/TCIA_Linux_Data_Retriever_App.ipynb).  However, there may be cases when you don't have administrative rights to install software or prefer using the REST API to download a manifest.  \n",
        "\n",
        "In order to demonstrate this use case, let's assume that after [Browsing the Collections](https://www.cancerimagingarchive.net/collections) you decided you were interested in the [RIDER Breast MRI](https://doi.org/10.7937/K9/TCIA.2015.H1SXNUXL) Collection.  If you're working from your local machine you can simply click the blue \"Download\" button on the [RIDER Breast MRI](https://doi.org/10.7937/K9/TCIA.2015.H1SXNUXL) page to save the manifest file to your computer.  If you're working on Google Colab or some other remote server the easiest thing to do is use wget to save it to your VM as shown below."
      ],
      "metadata": {
        "id": "60vpsOC2S6ff"
      }
    },
    {
      "cell_type": "code",
      "source": [
        "# use wget to download the manifest\n",
        "\n",
        "!wget -O /content/manifest.tcia https://wiki.cancerimagingarchive.net/download/attachments/22512757/doiJNLP-Fo0H1NtD.tcia?version=1&modificationDate=1534787017928&api=v2\n"
      ],
      "metadata": {
        "id": "pAtUWEcSHiO5"
      },
      "execution_count": null,
      "outputs": []
    },
    {
      "cell_type": "markdown",
      "source": [
        "TCIA manifest files contain several lines of information that precede a list of Series Instance UIDs to download.  The step below will remove the header."
      ],
      "metadata": {
        "id": "J4zFC_J1Q4EU"
      }
    },
    {
      "cell_type": "code",
      "source": [
        "with open(\"manifest.tcia\") as f:\n",
        "    first_line = f.readline()\n",
        "\n",
        "if \"downloadServerUrl\" in first_line:\n",
        "    !sed -i -e 1,6d manifest.tcia\n",
        "    print(\"Header text removed.\")\n",
        "else:\n",
        "    print(\"This is not a TCIA manifest file, or you've already removed the header lines.\")"
      ],
      "metadata": {
        "id": "sYmLKYOIJeFq"
      },
      "execution_count": null,
      "outputs": []
    },
    {
      "cell_type": "markdown",
      "source": [
        "Now we'll write the UIDs into a list and count them."
      ],
      "metadata": {
        "id": "L4Z4B21eHHQV"
      }
    },
    {
      "cell_type": "code",
      "source": [
        "# initialize variable\n",
        "uid_list = []\n",
        "\n",
        "# open file\n",
        "with open(\"manifest.tcia\") as f:\n",
        "    for line in f:\n",
        "        uid_list.append(line.rstrip())\n",
        "\n",
        "print(\"Result contains\", len(uid_list), \"Series Instance UIDs (scans).\")"
      ],
      "metadata": {
        "id": "kjXZG-YodVuv"
      },
      "execution_count": null,
      "outputs": []
    },
    {
      "cell_type": "markdown",
      "source": [
        "Finally, we'll download the series in the list.  "
      ],
      "metadata": {
        "id": "UG--djUgH2UA"
      }
    },
    {
      "cell_type": "code",
      "source": [
        "manifestDF=pd.DataFrame()\n",
        "seriesUID = ''\n",
        "count = 0\n",
        "\n",
        "for x in uid_list:\n",
        "      seriesUID = x    \n",
        "      data_url = base_url + \"getImage?SeriesInstanceUID=\" + seriesUID\n",
        "      print(\"Downloading \" + data_url)\n",
        "      data = requests.get(data_url)\n",
        "      file = zipfile.ZipFile(BytesIO(data.content))\n",
        "      # print(file.namelist())\n",
        "      file.extractall(path = \"apiDownload/\" + collection + \"/\" + seriesUID)\n",
        "      # write the series metadata to a dataframe\n",
        "      metadata_url = base_url + \"getSeriesMetaData?SeriesInstanceUID=\" + seriesUID\n",
        "      metadata = requests.get(metadata_url).json()\n",
        "      newRow = pd.DataFrame.from_dict(metadata)\n",
        "      tmpManifest = pd.concat([manifestDF, newRow], ignore_index = True)\n",
        "      tmpManifest.reset_index()\n",
        "      manifestDF = tmpManifest\n",
        "      # Repeat n times for demo purposes - comment out these next 3 lines to download a full results\n",
        "      count += 1;\n",
        "      if count == 3:\n",
        "          break  \n",
        "\n",
        "# display manifest dataframe and/or save manifest to CSV file\n",
        "manifestDF.to_csv('RIDER-Breast-MRI_manifest.csv')\n",
        "display(manifestDF)"
      ],
      "metadata": {
        "id": "9s1l6qFpeSvd"
      },
      "execution_count": null,
      "outputs": []
    },
    {
      "cell_type": "markdown",
      "source": [
        "# Conclusion\n",
        "This notebook demonstrated various ways to use TCIA's REST APIs to download cohorts of imaging data.  You can find additional TCIA notebooks at https://github.com/kirbyju/TCIA_Notebooks. "
      ],
      "metadata": {
        "id": "0TjIRzCEEIFB"
      }
    },
    {
      "cell_type": "markdown",
      "source": [
        "# Acknowledgements\n",
        "TCIA is funded by the [Cancer Imaging Program (CIP)](https://imaging.cancer.gov/), a part of the United States [National Cancer Institute (NCI)](https://www.cancer.gov/), and is managed by the [Frederick National Laboratory for Cancer Research (FNLCR)](https://frederick.cancer.gov/).\n",
        "\n",
        "This notebook was created by [Justin Kirby](https://www.linkedin.com/in/justinkirby82/) and Qinyan Pan.  If you leverage this notebook or any TCIA datasets in your work please be sure to comply with the [TCIA Data Usage Policy](https://wiki.cancerimagingarchive.net/x/c4hF). In particular, make sure to cite the DOI(s) for the specific TCIA datasets you used in addition to the following paper!\n",
        "\n",
        "## TCIA Citation\n",
        "\n",
        "Clark, K., Vendt, B., Smith, K., Freymann, J., Kirby, J., Koppel, P., Moore, S., Phillips, S., Maffitt, D., Pringle, M., Tarbox, L., & Prior, F. (2013). The Cancer Imaging Archive (TCIA): Maintaining and Operating a Public Information Repository. Journal of Digital Imaging, 26(6), 1045–1057. https://doi.org/10.1007/s10278-013-9622-7"
      ],
      "metadata": {
        "id": "DYXsNGcY93B8"
      }
    }
  ]
}